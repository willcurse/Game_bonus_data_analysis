{
 "cells": [
  {
   "cell_type": "code",
   "execution_count": 74,
   "id": "3868b751",
   "metadata": {},
   "outputs": [],
   "source": [
    "import pandas as pd\n",
    "import numpy as np\n",
    "import matplotlib.pyplot as plt\n",
    "import seaborn as sns\n",
    "sns.set(style='whitegrid')"
   ]
  },
  {
   "cell_type": "markdown",
   "id": "e3db516d",
   "metadata": {},
   "source": [
    "# 1:Data Loading"
   ]
  },
  {
   "cell_type": "code",
   "execution_count": 75,
   "id": "5f4764a9",
   "metadata": {},
   "outputs": [
    {
     "name": "stdout",
     "output_type": "stream",
     "text": [
      "Index(['User ID', 'Games Played', 'Datetime'], dtype='object')\n",
      "Index(['User Id', 'Datetime', 'Amount'], dtype='object')\n",
      "Index(['User Id', 'Datetime', 'Amount'], dtype='object')\n"
     ]
    }
   ],
   "source": [
    "file_path=(r'C:\\Users\\Administrator\\Desktop\\DA-jupyter\\Book1.xlsx')\n",
    "data=pd.ExcelFile(file_path)\n",
    "data.sheet_names\n",
    "\n",
    "# Load individual sheets for processing\n",
    "gameplay_data = data.parse('User Gameplay Data')\n",
    "print(gameplay_data.columns)\n",
    "\n",
    "deposit_data = data.parse('Deposite Data')\n",
    "print(deposit_data.columns)\n",
    "\n",
    "withdraw_data = data.parse('Withdraw Data')\n",
    "print(withdraw_data.columns)"
   ]
  },
  {
   "cell_type": "markdown",
   "id": "5fe2cee4",
   "metadata": {},
   "source": [
    "# 2: Data Cleaning"
   ]
  },
  {
   "cell_type": "code",
   "execution_count": 76,
   "id": "40739b5b",
   "metadata": {},
   "outputs": [],
   "source": [
    "#converting the datetime columns for accurate time filtering\n",
    "\n",
    "#1: gameplay_data\n",
    "gameplay_data['Datetime']=pd.to_datetime(gameplay_data['Datetime'])\n",
    "\n",
    "#2: deposit_data\n",
    "deposit_data['Datetime']=pd.to_datetime(deposit_data['Datetime'])\n",
    "\n",
    "#3: withdraw_data\n",
    "withdraw_data['Datetime']=pd.to_datetime(withdraw_data['Datetime'])\n"
   ]
  },
  {
   "cell_type": "code",
   "execution_count": 77,
   "id": "aa70d3d2",
   "metadata": {},
   "outputs": [
    {
     "name": "stdout",
     "output_type": "stream",
     "text": [
      "<class 'pandas.core.frame.DataFrame'>\n",
      "RangeIndex: 355266 entries, 0 to 355265\n",
      "Data columns (total 3 columns):\n",
      " #   Column        Non-Null Count   Dtype         \n",
      "---  ------        --------------   -----         \n",
      " 0   User ID       355266 non-null  int64         \n",
      " 1   Games Played  355266 non-null  int64         \n",
      " 2   Datetime      355266 non-null  datetime64[ns]\n",
      "dtypes: datetime64[ns](1), int64(2)\n",
      "memory usage: 8.1 MB\n",
      "<class 'pandas.core.frame.DataFrame'>\n",
      "RangeIndex: 17438 entries, 0 to 17437\n",
      "Data columns (total 3 columns):\n",
      " #   Column    Non-Null Count  Dtype         \n",
      "---  ------    --------------  -----         \n",
      " 0   User Id   17438 non-null  int64         \n",
      " 1   Datetime  17438 non-null  datetime64[ns]\n",
      " 2   Amount    17438 non-null  int64         \n",
      "dtypes: datetime64[ns](1), int64(2)\n",
      "memory usage: 408.8 KB\n",
      "<class 'pandas.core.frame.DataFrame'>\n",
      "RangeIndex: 3566 entries, 0 to 3565\n",
      "Data columns (total 3 columns):\n",
      " #   Column    Non-Null Count  Dtype         \n",
      "---  ------    --------------  -----         \n",
      " 0   User Id   3566 non-null   int64         \n",
      " 1   Datetime  3566 non-null   datetime64[ns]\n",
      " 2   Amount    3566 non-null   int64         \n",
      "dtypes: datetime64[ns](1), int64(2)\n",
      "memory usage: 83.7 KB\n"
     ]
    }
   ],
   "source": [
    "# getting only unique user\n",
    "unique_user1=gameplay_data['User ID'].unique()\n",
    "\n",
    "unique_user2=deposit_data['User Id'].unique()\n",
    "\n",
    "unique_user3=withdraw_data['User Id'].unique()\n",
    "\n",
    "gameplay_data.info()\n",
    "deposit_data.info()\n",
    "withdraw_data.info()\n"
   ]
  },
  {
   "attachments": {},
   "cell_type": "markdown",
   "id": "32c5412e",
   "metadata": {},
   "source": [
    "# #A: \"Final Loyalty Point Formula\"\n",
    "Loyalty Point = (0.01 * deposit) + (0.005 * Withdrawal amount) + (0.001 * (maximum of (#deposit - #withdrawal) or 0)) + (0.2 * Number of games played)\n",
    "\n",
    "At the end of each month total loyalty points are alloted to all the players. Out of which the top 50 players are provided cash benefits.\"\t\t\t\t\t\t\t\t\t\t\t\t\t\t\t\t\t\t\t\t"
   ]
  },
  {
   "cell_type": "code",
   "execution_count": 90,
   "id": "3fa586d9",
   "metadata": {},
   "outputs": [
    {
     "name": "stdout",
     "output_type": "stream",
     "text": [
      "     User ID  Loyalty_points\n",
      "377      795       14649.440\n",
      "196      599       10716.765\n",
      "433      852       10250.183\n",
      "544      972       10068.710\n",
      "112      502       10049.121\n",
      "..       ...             ...\n",
      "657      643           0.400\n",
      "624      388           0.400\n",
      "678      993           0.400\n",
      "645      507           0.400\n",
      "620      384           0.200\n",
      "\n",
      "[680 rows x 2 columns]\n"
     ]
    },
    {
     "data": {
      "image/png": "[encoded data removed]",
      "text/plain": [
       "<Figure size 1000x600 with 1 Axes>"
      ]
     },
     "metadata": {},
     "output_type": "display_data"
    }
   ],
   "source": [
    "#1: gameplay_data\n",
    "gameplay_data['Datetime']=pd.to_datetime(gameplay_data['Datetime'])\n",
    "\n",
    "#2: deposit_data\n",
    "deposit_data['Datetime']=pd.to_datetime(deposit_data['Datetime'])\n",
    "\n",
    "#3: withdraw_data\n",
    "withdraw_data['Datetime']=pd.to_datetime(withdraw_data['Datetime'])\n",
    "\n",
    "\n",
    "october_gameplay=gameplay_data[gameplay_data['Datetime'].dt.month==10]\n",
    "\n",
    "october_deposite=deposit_data[deposit_data['Datetime'].dt.month==10]\n",
    "\n",
    "october_withdraw=withdraw_data[withdraw_data['Datetime'].dt.month==10]\n",
    "\n",
    "# The agg() function (which is an alias for aggregate()) is used to perform aggregation operations on DataFrames and Series.\n",
    "# df.agg(['sum', 'mean'])   Apply sum and mean to all numeric columns\n",
    "# df.agg({'A': 'sum', 'B': 'mean'})   Apply sum to 'A' and mean to 'B'\n",
    "\n",
    "deposit_summary = october_deposite.groupby('User Id').agg(\n",
    "    total_deposit_amount=('Amount', 'sum'),\n",
    "    num_deposits=('Amount', 'size')\n",
    ").reset_index().rename(columns={'User Id':'User ID'})\n",
    "\n",
    "\n",
    "withdraw_summary = october_withdraw.groupby('User Id').agg(\n",
    "    total_withdraw_amount=('Amount', 'sum'),\n",
    "    num_withdraw=('Amount', 'size')\n",
    ").reset_index().rename(columns={'User Id':'User ID'})\n",
    "\n",
    "gameplay_summery=october_gameplay.groupby('User ID').agg(\n",
    "    total_gameplay=('Games Played','sum')\n",
    ").reset_index()\n",
    "\n",
    "\n",
    "gameplay_summary=pd.merge(deposit_summary,withdraw_summary,on='User ID',how='outer')\n",
    "gameplay_summary=pd.merge(gameplay_summary,gameplay_summery,on='User ID',how='outer').fillna(0)\n",
    "\n",
    "\n",
    "gameplay_summary['Deposite_points']=0.01*gameplay_summary['total_deposit_amount']\n",
    "gameplay_summary['Withdrwal_points']=0.005*gameplay_summary['total_withdraw_amount']\n",
    "gameplay_summary['num_points']=0.001*gameplay_summary['num_deposits']-gameplay_summary['num_withdraw']\n",
    "gameplay_summary['gameplay_points']=0.2*gameplay_summary['total_gameplay']\n",
    "\n",
    "gameplay_summary['Loyalty_points']=(gameplay_summary['Deposite_points']+gameplay_summary['Withdrwal_points']+gameplay_summary['num_points']+gameplay_summary['gameplay_points'])\n",
    "\n",
    "gameplay_sort=gameplay_summary.sort_values(['Loyalty_points'],ascending=(False))\n",
    "\n",
    "print(gameplay_sort[['User ID','Loyalty_points']])\n",
    "\n",
    "#Figure...\n",
    "gameplay_sort_top_5=gameplay_sort.head(5)\n",
    "plt.figure(figsize=(10,6))\n",
    "sns.barplot(x='Loyalty_points',y='User ID',data=gameplay_sort_top_5)\n",
    "plt.title('Loyalty Point Formula ')\n",
    "plt.show()"
   ]
  },
  {
   "cell_type": "markdown",
   "id": "b41e0bfe",
   "metadata": {},
   "source": [
    "# 1. Find Playerwise Loyalty points earned by Players in the following slots:-\n",
    "    a. 2nd October Slot S1\n",
    "    b. 16th October Slot S2\n",
    "    b. 18th October Slot S1\n",
    "    b. 26th October Slot S2"
   ]
  },
  {
   "cell_type": "code",
   "execution_count": 125,
   "id": "0c1d705a",
   "metadata": {},
   "outputs": [
    {
     "name": "stdout",
     "output_type": "stream",
     "text": [
      "Empty DataFrame\n",
      "Columns: [User ID, total_loyality_points, date, slot]\n",
      "Index: []\n",
      "   User ID  total_loyality_points        date slot\n",
      "0      541                637.013  2022-10-16   S2\n",
      "1      542                167.555  2022-10-16   S2\n",
      "2      543                  1.001  2022-10-16   S2\n",
      "3      544               1490.423  2022-10-16   S2\n",
      "4      546                 75.002  2022-10-16   S2\n",
      "   User ID  total_loyality_points        date slot\n",
      "0      541                637.013  2022-10-16   S2\n",
      "1      542                167.555  2022-10-16   S2\n",
      "2      543                  1.001  2022-10-16   S2\n",
      "3      544               1490.423  2022-10-16   S2\n",
      "4      546                 75.002  2022-10-16   S2\n",
      "   User ID  total_loyality_points        date slot\n",
      "0      541                637.013  2022-10-16   S2\n",
      "1      542                167.555  2022-10-16   S2\n",
      "2      543                  1.001  2022-10-16   S2\n",
      "3      544               1490.423  2022-10-16   S2\n",
      "4      546                 75.002  2022-10-16   S2\n"
     ]
    },
    {
     "data": {
      "image/png": "[encoded data removed]",
      "text/plain": [
       "<Figure size 1000x600 with 1 Axes>"
      ]
     },
     "metadata": {},
     "output_type": "display_data"
    }
   ],
   "source": [
    "gameplay_data['Datetime'] = pd.to_datetime(gameplay_data['Datetime'], errors='coerce')\n",
    "withdraw_data['Datetime'] = pd.to_datetime(withdraw_data['Datetime'], errors='coerce')\n",
    "deposit_data['Datetime'] = pd.to_datetime(deposit_data['Datetime'], errors='coerce')\n",
    "\n",
    "def filter_data(data,date,slot):\n",
    "    start_time,end_time=('00:00','12:00') if slot=='S1' else ('12:00','23:59')\n",
    "    start_datetime=pd.to_datetime(f'{date} {start_time}')\n",
    "    end_datetime=pd.to_datetime(f'{date} {end_time}')\n",
    "    return data[(data['Datetime']>=start_datetime) & (data['Datetime']<=end_datetime)]\n",
    "\n",
    "target_slots = [\n",
    "    {\"date\": \"2022-10-02\", \"slot\": \"S1\"},\n",
    "    {\"date\": \"2022-10-16\", \"slot\": \"S2\"},\n",
    "    {\"date\": \"2022-10-18\", \"slot\": \"S1\"},\n",
    "    {\"date\": \"2022-10-26\", \"slot\": \"S2\"}\n",
    "]\n",
    "\n",
    "Loyalty_points=[]\n",
    "\n",
    "for slot_info in target_slots:\n",
    "    date,slot=slot_info['date'],slot_info['slot']\n",
    "    slot_game=filter_data(gameplay_data,date,slot)\n",
    "    slot_withdraw=filter_data(withdraw_data,date,slot)\n",
    "    slot_deposite=filter_data(deposit_data,date,slot)\n",
    "    \n",
    "    deposit_summary = slot_deposite.groupby('User Id').agg(\n",
    "    total_deposit_amount=('Amount', 'sum'),\n",
    "    num_deposits=('Amount', 'size')\n",
    "    ).reset_index().rename(columns={'User Id':'User ID'})\n",
    "\n",
    "\n",
    "    withdraw_summary = slot_withdraw.groupby('User Id').agg(\n",
    "        total_withdraw_amount=('Amount', 'sum'),\n",
    "        num_withdraw=('Amount', 'size')\n",
    "    ).reset_index().rename(columns={'User Id':'User ID'})\n",
    "\n",
    "    gameplay_summery=slot_game.groupby('User ID').agg(\n",
    "        total_gameplay=('Games Played','sum')\n",
    "    ).reset_index()\n",
    "    \n",
    "    gameplay_summary=pd.merge(deposit_summary,withdraw_summary,on='User ID',how='outer')\n",
    "    gameplay_summary=pd.merge(gameplay_summary,gameplay_summery,on='User ID',how='outer').fillna(0)\n",
    "    \n",
    "    gameplay_summary['total_loyality_points']=(\n",
    "    0.01*gameplay_summary['total_deposit_amount']+\n",
    "    0.005*gameplay_summary['total_withdraw_amount']+\n",
    "    0.001*(gameplay_summary['num_deposits']-gameplay_summary['num_withdraw']).clip(lower=0)+\n",
    "    0.2*gameplay_summary['total_gameplay']   \n",
    "    )\n",
    "    \n",
    "    gameplay_summary['date']=date\n",
    "    gameplay_summary['slot']=slot\n",
    "    \n",
    "    Loyalty_points.append(gameplay_summary[['User ID','total_loyality_points','date','slot']])\n",
    "    \n",
    "    dp=pd.concat(Loyalty_points)\n",
    "    print(dp.head())\n",
    "\n",
    "    \n",
    "#figure\n",
    "dp_head=dp.head(10)\n",
    "plt.figure(figsize=(10,6))\n",
    "sns.lineplot(x='total_loyality_points',y='User ID',data=dp_head)\n",
    "plt.show()\n",
    "\n",
    "    "
   ]
  },
  {
   "cell_type": "markdown",
   "id": "6b6ef1d3",
   "metadata": {},
   "source": [
    "# 2. Calculate overall loyalty points earned and rank players on the basis of loyalty points in the month of October. \n",
    "     In case of tie, number of games played should be taken as the next criteria for ranking."
   ]
  },
  {
   "cell_type": "code",
   "execution_count": 132,
   "id": "377fce93",
   "metadata": {},
   "outputs": [
    {
     "name": "stdout",
     "output_type": "stream",
     "text": [
      "     User ID  Total_Loyalty_points\n",
      "377      795             14649.440\n",
      "196      599             10716.765\n",
      "433      852             10250.183\n",
      "544      972             10068.710\n",
      "112      502             10049.121\n",
      "..       ...                   ...\n",
      "657      643                 0.400\n",
      "624      388                 0.400\n",
      "678      993                 0.400\n",
      "645      507                 0.400\n",
      "620      384                 0.200\n",
      "\n",
      "[680 rows x 2 columns]\n"
     ]
    }
   ],
   "source": [
    "#1: gameplay_data\n",
    "gameplay_data['Datetime']=pd.to_datetime(gameplay_data['Datetime'])\n",
    "\n",
    "#2: deposit_data\n",
    "deposit_data['Datetime']=pd.to_datetime(deposit_data['Datetime'])\n",
    "\n",
    "#3: withdraw_data\n",
    "withdraw_data['Datetime']=pd.to_datetime(withdraw_data['Datetime'])\n",
    "\n",
    "\n",
    "october_gameplay=gameplay_data[gameplay_data['Datetime'].dt.month==10]\n",
    "\n",
    "october_deposite=deposit_data[deposit_data['Datetime'].dt.month==10]\n",
    "\n",
    "october_withdraw=withdraw_data[withdraw_data['Datetime'].dt.month==10]\n",
    "\n",
    "# The agg() function (which is an alias for aggregate()) is used to perform aggregation operations on DataFrames and Series.\n",
    "# df.agg(['sum', 'mean'])   Apply sum and mean to all numeric columns\n",
    "# df.agg({'A': 'sum', 'B': 'mean'})   Apply sum to 'A' and mean to 'B'\n",
    "\n",
    "deposit_summary = october_deposite.groupby('User Id').agg(\n",
    "    total_deposit_amount=('Amount', 'sum'),\n",
    "    num_deposits=('Amount', 'size')\n",
    ").reset_index().rename(columns={'User Id':'User ID'})\n",
    "\n",
    "\n",
    "withdraw_summary = october_withdraw.groupby('User Id').agg(\n",
    "    total_withdraw_amount=('Amount', 'sum'),\n",
    "    num_withdraw=('Amount', 'size')\n",
    ").reset_index().rename(columns={'User Id':'User ID'})\n",
    "\n",
    "gameplay_summery=october_gameplay.groupby('User ID').agg(\n",
    "    total_gameplay=('Games Played','sum')\n",
    ").reset_index()\n",
    "\n",
    "\n",
    "gameplay_summary=pd.merge(deposit_summary,withdraw_summary,on='User ID',how='outer')\n",
    "gameplay_summary=pd.merge(gameplay_summary,gameplay_summery,on='User ID',how='outer').fillna(0)\n",
    "\n",
    "\n",
    "gameplay_summary['Deposite_points']=0.01*gameplay_summary['total_deposit_amount']\n",
    "gameplay_summary['Withdrwal_points']=0.005*gameplay_summary['total_withdraw_amount']\n",
    "gameplay_summary['num_points']=0.001*gameplay_summary['num_deposits']-gameplay_summary['num_withdraw']\n",
    "gameplay_summary['gameplay_points']=0.2*gameplay_summary['total_gameplay']\n",
    "\n",
    "gameplay_summary['Total_Loyalty_points']=(gameplay_summary['Deposite_points']+gameplay_summary['Withdrwal_points']+gameplay_summary['num_points']+gameplay_summary['gameplay_points'])\n",
    "\n",
    "gameplay_sort=gameplay_summary.sort_values(['Total_Loyalty_points'],ascending=(False))\n",
    "\n",
    "print(gameplay_sort[['User ID','Total_Loyalty_points']])\n",
    "\n",
    "\n",
    "\n"
   ]
  },
  {
   "cell_type": "markdown",
   "id": "972add76",
   "metadata": {},
   "source": [
    "# 3. What is the average deposit amount?"
   ]
  },
  {
   "cell_type": "code",
   "execution_count": 108,
   "id": "c07b36cf",
   "metadata": {},
   "outputs": [
    {
     "name": "stdout",
     "output_type": "stream",
     "text": [
      "Average Deposite Amount is 5492\n"
     ]
    }
   ],
   "source": [
    "deposit_data = data.parse('Deposite Data')\n",
    "\n",
    "average_deposite_amount=deposit_data['Amount'].mean()\n",
    "round_avg=round(average_deposite_amount)\n",
    "print(f'Average Deposite Amount is {round_avg}')"
   ]
  },
  {
   "cell_type": "markdown",
   "id": "a0cf478c",
   "metadata": {},
   "source": [
    "# 4. What is the average deposit amount per user in a month?"
   ]
  },
  {
   "cell_type": "code",
   "execution_count": 112,
   "id": "cba816ec",
   "metadata": {},
   "outputs": [
    {
     "name": "stdout",
     "output_type": "stream",
     "text": [
      "The average deposit amount per user in a month is 110400.0\n"
     ]
    }
   ],
   "source": [
    "deposit_data['Datetime']=pd.to_datetime(deposit_data['Datetime'])\n",
    "october_deposite=deposit_data[deposit_data['Datetime'].dt.month==10]\n",
    "user_deposite=october_deposite.groupby('User Id')['Amount'].sum()\n",
    "mean_month=user_deposite.mean()\n",
    "round_month=mean_month.round()\n",
    "print(f'The average deposit amount per user in a month is {round_month}')"
   ]
  },
  {
   "cell_type": "markdown",
   "id": "cb9d4ae7",
   "metadata": {},
   "source": [
    "# 5. What is the average number of games played per user?\"\t"
   ]
  },
  {
   "cell_type": "code",
   "execution_count": 117,
   "id": "8a1e0d31",
   "metadata": {},
   "outputs": [
    {
     "name": "stdout",
     "output_type": "stream",
     "text": [
      "The average number of games played per user are 355.0 \n"
     ]
    }
   ],
   "source": [
    "gameplay_groupby=gameplay_data.groupby('User ID')['Games Played'].sum()\n",
    "mean_gameplay=gameplay_groupby.mean()\n",
    "mean=mean_gameplay.round()\n",
    "print(f'The average number of games played per user are {mean} ')"
   ]
  },
  {
   "cell_type": "markdown",
   "id": "4d46c9b3",
   "metadata": {},
   "source": [
    "# Part B - How much bonus should be allocated to leaderboard players?\n",
    "\n",
    "After calculating the loyalty points for the whole month find out which 50 players are at the top of the leaderboard.\n",
    " The company has allocated a pool of Rs 50000 to be given away as bonus money to the loyal players.\n",
    "\n",
    "Now the company needs to determine how much bonus money should be given to the players.\n",
    "\n",
    "Should they base it on the amount of loyalty points? Should it be based on number of games? Or something else?\n",
    "\n",
    "That’s for you to figure out.\n",
    "\n",
    "Suggest a suitable way to divide the allocated money keeping in mind the following points:\n",
    "1. Only top 50 ranked players are awarded bonus"
   ]
  },
  {
   "cell_type": "code",
   "execution_count": 147,
   "id": "4f660914",
   "metadata": {},
   "outputs": [],
   "source": [
    "# # gameplay_data['Datetime']=pd.to_datetime(gameplay_data['Datetime'])\n",
    "# # deposit_data['Datetime']=pd.to_datetime(deposit_data['Datetime'])\n",
    "# # withdraw_data['Datetime']=pd.to_datetime(withdraw_data['Datetime'])\n",
    "\n",
    "# # october_gameplay=gameplay_data[gameplay_data['Datetime'].dt.month==10]\n",
    "# # october_deposit=deposit_data[deposit_data['Datetime'].dt.month==10]\n",
    "# # october_withdraw=withdraw_data[withdraw_data['Datetime'].dt.month==10]\n",
    "\n",
    "# # gameplay_summery=october_gameplay.groupby('User ID').agg(\n",
    "# #     total_gameplay=('Games Played','sum')\n",
    "# # ).reset_index()\n",
    "\n",
    "# # deposit_summary = october_deposite.groupby('User Id').agg(\n",
    "# #     total_deposit_amount=('Amount', 'sum'),\n",
    "# #     num_deposits=('Amount', 'size')\n",
    "# # ).reset_index().rename(columns={'User Id':'User ID'})\n",
    "\n",
    "\n",
    "# # withdraw_summary = october_withdraw.groupby('User Id').agg(\n",
    "# #     total_withdraw_amount=('Amount', 'sum'),\n",
    "# #     num_withdraw=('Amount', 'size')\n",
    "# # ).reset_index().rename(columns={'User Id':'User ID'})\n",
    "\n",
    "\n",
    "# # gameplay_summary=pd.merge(deposit_summary,withdraw_summary,on='User ID',how='outer')\n",
    "# # gameplay_summary=pd.merge(gameplay_summary,gameplay_summery,how='outer',on='User ID').fillna(0)\n",
    "\n",
    "\n",
    "# # gameplay_summary['deposite_points']=0.01*deposit_summary['total_deposit_amount']\n",
    "# # gameplay_summary['withdraw_points']=0.005*withdraw_summary['total_withdraw_amount']\n",
    "# # gameplay_summary['gameplay_points']=0.01*gameplay_summery['total_gameplay']\n",
    "# # gameplay_summary['num_points']=0.001*gameplay_summary['num_deposits']-gameplay_summary['num_withdraw']\n",
    "\n",
    "# # gameplay_summary['Total_points']=(gameplay_summary['deposite_points']+gameplay_summary['withdraw_points']+gameplay_summary['gameplay_points']+gameplay_summary['num_points'])\n",
    "\n",
    "# # total_gameplay=gameplay_summary.sort_values(['Total_points'],ascending=(False))\n",
    "# # print(total_gameplay[['Total_points']].sum().round())\n",
    "\n",
    "\n",
    "# # #sorting\n",
    "\n",
    "# # gameplay_summery=october_gameplay.groupby('User ID').agg(\n",
    "# #     total_gameplay=('Games Played','sum')\n",
    "# # ).reset_index().head(50)\n",
    "\n",
    "# # deposit_summary = october_deposite.groupby('User Id').agg(\n",
    "# #     total_deposit_amount=('Amount', 'sum'),\n",
    "# #     num_deposits=('Amount', 'size')\n",
    "# # ).reset_index().rename(columns={'User Id':'User ID'}).head(50)\n",
    "\n",
    "\n",
    "# # withdraw_summary = october_withdraw.groupby('User Id').agg(\n",
    "# #     total_withdraw_amount=('Amount', 'sum'),\n",
    "# #     num_withdraw=('Amount', 'size')\n",
    "# # ).reset_index().rename(columns={'User Id':'User ID'}).head(50)\n",
    "\n",
    "\n",
    "# # gameplay_summary=pd.merge(deposit_summary,withdraw_summary,on='User ID',how='outer')\n",
    "# # gameplay_summary=pd.merge(gameplay_summary,gameplay_summery,how='outer',on='User ID').fillna(0)\n",
    "\n",
    "\n",
    "# # gameplay_summary['deposite_points']=0.01*deposit_summary['total_deposit_amount']\n",
    "# # gameplay_summary['withdraw_points']=0.005*withdraw_summary['total_withdraw_amount']\n",
    "# # gameplay_summary['gameplay_points']=0.01*gameplay_summery['total_gameplay']\n",
    "# # gameplay_summary['num_points']=0.001*gameplay_summary['num_deposits']-gameplay_summary['num_withdraw']\n",
    "\n",
    "# # gameplay_summary['sort_points']=(gameplay_summary['deposite_points']+gameplay_summary['withdraw_points']+gameplay_summary['gameplay_points']+gameplay_summary['num_points'])\n",
    "\n",
    "# # sort_gameplay=gameplay_summary.sort_values(['sort_points'],ascending=(False))\n",
    "# # print(sort_gameplay[['sort_points']].sum().round())\n",
    "\n",
    "\n",
    "# # #formula for the points\n",
    "# final=(0.7*total_gameplay)/(0.3*sort_gameplay)*50000\n",
    "# final\n"
   ]
  },
  {
   "cell_type": "code",
   "execution_count": 151,
   "id": "d387f958",
   "metadata": {},
   "outputs": [
    {
     "name": "stdout",
     "output_type": "stream",
     "text": [
      "     User ID  Total_Loyalty_points  total_gameplay        bonus\n",
      "377      795             14649.440           617.0  1913.804910\n",
      "196      599             10716.765             9.0  1375.711419\n",
      "433      852             10250.183           321.0  1332.996555\n",
      "544      972             10068.710            18.0  1293.045475\n",
      "112      502             10049.121          4494.0  1536.693532\n",
      "35       421             10014.412             0.0  1285.087820\n",
      "425      844              9519.217           448.0  1246.180673\n",
      "417      836              9328.400          2430.0  1330.696240\n",
      "126      519              8607.857          1980.0  1213.485225\n",
      "378      796              8444.574            90.0  1088.589811\n",
      "229      634              8420.383            24.0  1081.855798\n",
      "431      850              8155.805             8.0  1047.024197\n",
      "552      980              8121.590            63.0  1045.658373\n",
      "213      618              8046.938          7084.0  1422.205182\n",
      "152      548              7992.038            31.0  1027.273893\n",
      "418      837              7877.001           335.0  1029.230667\n",
      "557      985              7691.396           880.0  1035.385903\n",
      "332      744              7663.769           579.0  1015.286925\n",
      "257      663              7661.617          6401.0  1335.197089\n",
      "483      909              7490.180             1.0   961.223669\n",
      "238      644              7335.630           343.0   960.199828\n",
      "517      944              7237.920            28.0   930.337587\n",
      "464      888              7127.014           582.0   946.573449\n",
      "481      907              7087.915            57.0   912.683251\n",
      "169      565              7016.760          1312.0   972.572263\n",
      "232      637              6901.929             5.0   885.957024\n",
      "522      949              6471.514             1.0   830.504534\n",
      "373      790              6412.871           238.0   836.013275\n",
      "494      920              6411.371           932.0   873.987966\n",
      "188      587              6359.509           734.0   856.443641\n",
      "412      831              6331.506           344.0   831.401774\n",
      "500      927              6261.458          1033.0   860.305143\n",
      "342      754              6194.309          5702.0  1108.464333\n",
      "248      654              6102.142           998.0   837.936244\n",
      "34       352              6087.649             0.0   781.190507\n",
      "62       450              6012.742             0.0   771.578153\n",
      "410      829              5917.497            49.0   762.050749\n",
      "361      776              5858.482           105.0   757.557490\n",
      "550      978              5824.309            74.0   751.467405\n",
      "509      936              5434.194           161.0   706.190996\n",
      "523      950              5423.464             4.0   696.179720\n",
      "70       458              5408.389          2190.0   814.466345\n",
      "125      518              5143.473           156.0   668.609581\n",
      "489      915              5112.019             8.0   656.433884\n",
      "242      648              5008.265             3.0   642.844793\n",
      "531      959              5004.174            13.0   642.869779\n",
      "558      987              4938.355          2171.0   753.104854\n",
      "598      765              4910.710         24096.0  1955.343154\n",
      "114      505              4899.165          2308.0   755.610285\n",
      "220      625              4856.648            23.0   624.488636\n"
     ]
    },
    {
     "data": {
      "image/png": "[encoded data removed]",
      "text/plain": [
       "<Figure size 1000x600 with 1 Axes>"
      ]
     },
     "metadata": {},
     "output_type": "display_data"
    }
   ],
   "source": [
    "\n",
    "top_50_players = gameplay_sort.nlargest(50, ['Total_Loyalty_points', 'total_gameplay'])\n",
    "\n",
    "\n",
    "a = 0.7  \n",
    "b = 0.3   \n",
    "\n",
    "\n",
    "top_50_players['weighted_score'] = (a * top_50_players['Total_Loyalty_points'] + \n",
    "                                    b * top_50_players['total_gameplay'])\n",
    "\n",
    "total_weighted_score = top_50_players['weighted_score'].sum()\n",
    "\n",
    "top_50_players['bonus'] = (top_50_players['weighted_score'] / total_weighted_score) * 50000\n",
    "\n",
    "\n",
    "\n",
    "print(top_50_players[['User ID', 'Total_Loyalty_points', 'total_gameplay', 'bonus']])\n",
    "\n",
    "#figure\n",
    "\n",
    "plt.figure(figsize=(10,6))\n",
    "sns.lineplot(x='Total_Loyalty_points',y='bonus',data=top_50_players)\n",
    "plt.title('Top 50 players accoring to the play')\n",
    "plt.show()\n"
   ]
  },
  {
   "cell_type": "markdown",
   "id": "b9572e7f",
   "metadata": {},
   "source": [
    "# Part C\n",
    "\n",
    "Would you say the loyalty point formula is fair or unfair?\n",
    "\n",
    "Can you suggest any way to make the loyalty point formula more robust?\"\t\n"
   ]
  },
  {
   "cell_type": "markdown",
   "id": "ae623cb7",
   "metadata": {},
   "source": [
    "# Answers-:\n",
    "Accoridng to me the loyalty point formula is fair\n",
    "as \n",
    "Deposits: Points are awarded based on 1% of the total deposit amount.\n",
    "Withdrawals: Points are awarded based on 0.5% of the total withdrawal amount.\n",
    "Deposit-Withdrawal Balance: Small additional points are awarded if deposits exceed withdrawals, based on the count difference between deposits and withdrawals.\n",
    "Games Played: Points are heavily weighted here, with 0.2 points awarded per game p}layed.\n"
   ]
  },
  {
   "cell_type": "code",
   "execution_count": null,
   "id": "a59e7c39",
   "metadata": {},
   "outputs": [],
   "source": []
  }
 ],
 "metadata": {
  "kernelspec": {
   "display_name": "Python 3 (ipykernel)",
   "language": "python",
   "name": "python3"
  },
  "language_info": {
   "codemirror_mode": {
    "name": "ipython",
    "version": 3
   },
   "file_extension": ".py",
   "mimetype": "text/x-python",
   "name": "python",
   "nbconvert_exporter": "python",
   "pygments_lexer": "ipython3",
   "version": "3.10.9"
  }
 },
 "nbformat": 4,
 "nbformat_minor": 5
}
